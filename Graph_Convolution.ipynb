{
 "cells": [
  {
   "cell_type": "markdown",
   "id": "222ec591",
   "metadata": {},
   "source": [
    "## Graph Convolution"
   ]
  },
  {
   "cell_type": "code",
   "execution_count": 22,
   "id": "401d3759",
   "metadata": {},
   "outputs": [],
   "source": [
    "from rdkit import Chem\n",
    "from rdkit.Chem import Draw\n",
    "from rdkit.Chem.Draw import IPythonConsole\n",
    "from rdkit.Chem import Descriptors\n",
    "from rdkit.Chem import AllChem\n",
    "from rdkit import DataStructs\n",
    "from rdkit.Chem import PandasTools\n",
    "\n",
    "import numpy as np"
   ]
  },
  {
   "cell_type": "code",
   "execution_count": 31,
   "id": "6e5e9823",
   "metadata": {},
   "outputs": [
    {
     "data": {
      "image/jpeg": "[encoded data removed]",
      "image/png": "[encoded data removed]",
      "text/plain": [
       "<PIL.PngImagePlugin.PngImageFile image mode=RGB size=300x300>"
      ]
     },
     "execution_count": 31,
     "metadata": {},
     "output_type": "execute_result"
    }
   ],
   "source": [
    "mol = Chem.MolFromSmiles('CNC')   # dimethyl amine\n",
    "\n",
    "def draw_mol(mol):\n",
    "    dos = Draw.MolDrawOptions()\n",
    "    dos.addAtomIndices = True\n",
    "    return Draw.MolToImage(mol, options=dos)\n",
    "\n",
    "draw_mol(mol)"
   ]
  },
  {
   "cell_type": "markdown",
   "id": "b0cee2fc",
   "metadata": {},
   "source": [
    "Graph only knows connections. \n",
    "\n",
    "Convolution is concerned with getting chemical info into this."
   ]
  },
  {
   "cell_type": "markdown",
   "id": "956be06f",
   "metadata": {},
   "source": [
    "### Adjacency Matrix"
   ]
  },
  {
   "cell_type": "code",
   "execution_count": 32,
   "id": "932a9a01",
   "metadata": {},
   "outputs": [
    {
     "data": {
      "text/plain": [
       "matrix([[0, 1, 0],\n",
       "        [1, 0, 1],\n",
       "        [0, 1, 0]], dtype=int32)"
      ]
     },
     "execution_count": 32,
     "metadata": {},
     "output_type": "execute_result"
    }
   ],
   "source": [
    "A = Chem.GetAdjacencyMatrix(mol)\n",
    "A = np.asmatrix(A)\n",
    "A"
   ]
  },
  {
   "cell_type": "code",
   "execution_count": 33,
   "id": "2e4066ee",
   "metadata": {},
   "outputs": [
    {
     "data": {
      "text/plain": [
       "array([[1, 0],\n",
       "       [0, 1],\n",
       "       [1, 0]])"
      ]
     },
     "execution_count": 33,
     "metadata": {},
     "output_type": "execute_result"
    }
   ],
   "source": [
    "# One-hot encoding of atoms\n",
    "C = [1, 0]\n",
    "N = [0, 1]\n",
    "X = np.array([C, N, C])\n",
    "X"
   ]
  },
  {
   "cell_type": "markdown",
   "id": "88dd444b",
   "metadata": {},
   "source": [
    "Convolution is the multiplication of these:"
   ]
  },
  {
   "cell_type": "code",
   "execution_count": 34,
   "id": "580ccb34",
   "metadata": {},
   "outputs": [
    {
     "data": {
      "text/plain": [
       "matrix([[0, 1],\n",
       "        [2, 0],\n",
       "        [0, 1]])"
      ]
     },
     "execution_count": 34,
     "metadata": {},
     "output_type": "execute_result"
    }
   ],
   "source": [
    "'''\n",
    "   C   N\n",
    "C  0   1\n",
    "N  2   0\n",
    "C  0   1\n",
    "\n",
    "atom 0 is bound to 0 C and 1 N\n",
    "atom 1 is bound to 2 C and 0 N\n",
    "atom 2 is bound to 0 C and 1 N\n",
    "'''\n",
    "\n",
    "A @ X        # @ for matrix multiplication\n"
   ]
  },
  {
   "cell_type": "markdown",
   "id": "bf836622",
   "metadata": {},
   "source": [
    "### Identity Matrix"
   ]
  },
  {
   "cell_type": "code",
   "execution_count": 35,
   "id": "49f1b1c5",
   "metadata": {},
   "outputs": [
    {
     "data": {
      "text/plain": [
       "matrix([[1., 1., 0.],\n",
       "        [1., 1., 1.],\n",
       "        [0., 1., 1.]])"
      ]
     },
     "execution_count": 35,
     "metadata": {},
     "output_type": "execute_result"
    }
   ],
   "source": [
    "I = np.matrix(np.eye(A.shape[0])) \n",
    "A_hat = A + I\n",
    "A_hat"
   ]
  },
  {
   "cell_type": "code",
   "execution_count": null,
   "id": "ea876f74",
   "metadata": {},
   "outputs": [
    {
     "data": {
      "text/plain": [
       "matrix([[1., 1.],\n",
       "        [2., 1.],\n",
       "        [1., 1.]])"
      ]
     },
     "execution_count": 36,
     "metadata": {},
     "output_type": "execute_result"
    }
   ],
   "source": [
    "''' What the atom is and is bonded to!!!\n",
    "   C   N\n",
    "C  0   1\n",
    "N  2   0\n",
    "C  0   1\n",
    "\n",
    "atom 0 is bound to 0 C and 1 N and is a C(1st column)\n",
    "atom 1 is bound to 2 C and 0 N and is a N(2nd column)\n",
    "atom 2 is bound to 0 C and 1 N and is a C(1st column)\n",
    "'''\n",
    "\n",
    "A_hat @ X"
   ]
  },
  {
   "cell_type": "markdown",
   "id": "3cc544e0",
   "metadata": {},
   "source": [
    "### Normalization\n",
    "For larger systems, these values are big... problem for activation functions\n",
    "\n",
    "Normalization ensures the numbers in this matrix are relatively small"
   ]
  },
  {
   "cell_type": "code",
   "execution_count": 39,
   "id": "55b6f22d",
   "metadata": {},
   "outputs": [
    {
     "data": {
      "text/plain": [
       "array([2., 3., 2.])"
      ]
     },
     "execution_count": 39,
     "metadata": {},
     "output_type": "execute_result"
    }
   ],
   "source": [
    "D_hat = np.array(np.sum(A_hat, axis=0))[0] # sum over rows of A_hat\n",
    "D_hat"
   ]
  },
  {
   "cell_type": "code",
   "execution_count": 40,
   "id": "fb37c738",
   "metadata": {},
   "outputs": [
    {
     "data": {
      "text/plain": [
       "matrix([[2., 0., 0.],\n",
       "        [0., 3., 0.],\n",
       "        [0., 0., 2.]])"
      ]
     },
     "execution_count": 40,
     "metadata": {},
     "output_type": "execute_result"
    }
   ],
   "source": [
    "D_hat = np.matrix(np.diag(D_hat))\n",
    "D_hat"
   ]
  },
  {
   "cell_type": "code",
   "execution_count": 42,
   "id": "973c0697",
   "metadata": {},
   "outputs": [
    {
     "data": {
      "text/plain": [
       "matrix([[0.5       , 0.5       ],\n",
       "        [0.66666667, 0.33333333],\n",
       "        [0.5       , 0.5       ]])"
      ]
     },
     "execution_count": 42,
     "metadata": {},
     "output_type": "execute_result"
    }
   ],
   "source": [
    "# inverse of D_hat to normalize\n",
    "D_hat**(-1) * A_hat * X"
   ]
  },
  {
   "cell_type": "code",
   "execution_count": 46,
   "id": "db4981a4",
   "metadata": {},
   "outputs": [
    {
     "data": {
      "text/plain": [
       "matrix([[0.5       , 0.40824829],\n",
       "        [0.81649658, 0.33333333],\n",
       "        [0.5       , 0.40824829]])"
      ]
     },
     "execution_count": 46,
     "metadata": {},
     "output_type": "execute_result"
    }
   ],
   "source": [
    "D_hat_inv = np.sqrt(D_hat**(-1))\n",
    "H = D_hat_inv * A_hat * D_hat_inv * X\n",
    "H"
   ]
  },
  {
   "cell_type": "markdown",
   "id": "c7dea5f3",
   "metadata": {},
   "source": [
    "### Weights"
   ]
  },
  {
   "cell_type": "code",
   "execution_count": 47,
   "id": "d1ed11df",
   "metadata": {},
   "outputs": [
    {
     "data": {
      "text/plain": [
       "matrix([[ 0.09762701,  0.43037873,  0.20552675,  0.08976637, -0.1526904 ],\n",
       "        [ 0.29178823, -0.12482558,  0.783546  ,  0.92732552, -0.23311696]])"
      ]
     },
     "execution_count": 47,
     "metadata": {},
     "output_type": "execute_result"
    }
   ],
   "source": [
    "np.random.seed(0)\n",
    "# number of descriptors * number of filters\n",
    "W = 2 * np.random.rand(2, 5) - 1    # 2 features, 5 layers, -1 so weights are between 0 and 1\n",
    "W = np.asmatrix(W)\n",
    "W"
   ]
  },
  {
   "cell_type": "code",
   "execution_count": 48,
   "id": "b1b0b578",
   "metadata": {},
   "outputs": [
    {
     "data": {
      "text/plain": [
       "matrix([[ 0.16793555,  0.16422954,  0.42264469,  0.42346224, -0.1715148 ],\n",
       "        [ 0.17697486,  0.30979424,  0.42899389,  0.38240244, -0.20237684],\n",
       "        [ 0.16793555,  0.16422954,  0.42264469,  0.42346224, -0.1715148 ]])"
      ]
     },
     "execution_count": 48,
     "metadata": {},
     "output_type": "execute_result"
    }
   ],
   "source": [
    "Z = H * W\n",
    "Z"
   ]
  },
  {
   "cell_type": "markdown",
   "id": "64599f26",
   "metadata": {},
   "source": [
    "### Pass to Activation Function"
   ]
  },
  {
   "cell_type": "code",
   "execution_count": null,
   "id": "b3d7d48b",
   "metadata": {},
   "outputs": [
    {
     "data": {
      "text/plain": [
       "matrix([[0.16793555, 0.16422954, 0.42264469, 0.42346224, 0.        ],\n",
       "        [0.17697486, 0.30979424, 0.42899389, 0.38240244, 0.        ],\n",
       "        [0.16793555, 0.16422954, 0.42264469, 0.42346224, 0.        ]])"
      ]
     },
     "execution_count": 49,
     "metadata": {},
     "output_type": "execute_result"
    }
   ],
   "source": [
    "def relu(x):\n",
    "    return np.maximum(0, x) # 0 if x < 0, else x\n",
    "\n",
    "relu(Z)"
   ]
  },
  {
   "cell_type": "code",
   "execution_count": 51,
   "id": "231ba427",
   "metadata": {},
   "outputs": [
    {
     "data": {
      "image/jpeg": "[encoded data removed]",
      "image/png": "[encoded data removed]",
      "text/plain": [
       "<PIL.PngImagePlugin.PngImageFile image mode=RGB size=300x300>"
      ]
     },
     "execution_count": 51,
     "metadata": {},
     "output_type": "execute_result"
    }
   ],
   "source": [
    "mol2 = Chem.MolFromSmiles('CNCNC')\n",
    "draw_mol(mol2)"
   ]
  },
  {
   "cell_type": "code",
   "execution_count": null,
   "id": "9600f623",
   "metadata": {},
   "outputs": [
    {
     "name": "stdout",
     "output_type": "stream",
     "text": [
      "[[0 1]\n",
      " [2 0]\n",
      " [0 2]\n",
      " [2 0]\n",
      " [0 1]]\n",
      "[[2 0]\n",
      " [0 3]\n",
      " [4 0]\n",
      " [0 3]\n",
      " [2 0]]\n"
     ]
    }
   ],
   "source": [
    "A = Chem.GetAdjacencyMatrix(mol2)\n",
    "A = np.asmatrix(A)\n",
    "\n",
    "# One-hot encoding of atoms\n",
    "C = [1, 0]\n",
    "N = [0, 1]\n",
    "X = np.array([C, N, C, N, C])\n",
    "\n",
    "H1 = A * X\n",
    "print(H1) # how many things an atom is bonded to  e.g  1, then 2, then 2, then 2, then 1\n",
    "\n",
    "H2 = A * H1\n",
    "print(H2)"
   ]
  },
  {
   "cell_type": "markdown",
   "id": "32fc7284",
   "metadata": {},
   "source": [
    "By going through several convolutional layers, we can get info about bonding further and further from the atom"
   ]
  }
 ],
 "metadata": {
  "kernelspec": {
   "display_name": "my-rdkit-env",
   "language": "python",
   "name": "python3"
  },
  "language_info": {
   "codemirror_mode": {
    "name": "ipython",
    "version": 3
   },
   "file_extension": ".py",
   "mimetype": "text/x-python",
   "name": "python",
   "nbconvert_exporter": "python",
   "pygments_lexer": "ipython3",
   "version": "3.13.3"
  }
 },
 "nbformat": 4,
 "nbformat_minor": 5
}
