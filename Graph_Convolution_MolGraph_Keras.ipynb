{
 "cells": [
  {
   "cell_type": "markdown",
   "id": "f5ae041f",
   "metadata": {},
   "source": [
    "## MolGraph"
   ]
  },
  {
   "cell_type": "code",
   "execution_count": 31,
   "id": "687ed377",
   "metadata": {},
   "outputs": [],
   "source": [
    "\n",
    "import os\n",
    "os.environ['TF_USE_LEGACY_KERAS'] = '1'\n",
    "\n",
    "import pandas as pd\n",
    "\n",
    "# import molgraph\n",
    "# print(dir(molgraph)) # needed molgraph==0.8.0 for chemistry module\n",
    "\n",
    "from molgraph.chemistry import features, Featurizer, MolecularGraphEncoder\n",
    "from tensorflow import keras\n",
    "import molgraph\n"
   ]
  },
  {
   "cell_type": "code",
   "execution_count": 5,
   "id": "e4983751",
   "metadata": {},
   "outputs": [
    {
     "data": {
      "text/html": [
       "<div>\n",
       "<style scoped>\n",
       "    .dataframe tbody tr th:only-of-type {\n",
       "        vertical-align: middle;\n",
       "    }\n",
       "\n",
       "    .dataframe tbody tr th {\n",
       "        vertical-align: top;\n",
       "    }\n",
       "\n",
       "    .dataframe thead th {\n",
       "        text-align: right;\n",
       "    }\n",
       "</style>\n",
       "<table border=\"1\" class=\"dataframe\">\n",
       "  <thead>\n",
       "    <tr style=\"text-align: right;\">\n",
       "      <th></th>\n",
       "      <th>Compound ID</th>\n",
       "      <th>ESOL predicted log solubility in mols per litre</th>\n",
       "      <th>Minimum Degree</th>\n",
       "      <th>Molecular Weight</th>\n",
       "      <th>Number of H-Bond Donors</th>\n",
       "      <th>Number of Rings</th>\n",
       "      <th>Number of Rotatable Bonds</th>\n",
       "      <th>Polar Surface Area</th>\n",
       "      <th>measured log solubility in mols per litre</th>\n",
       "      <th>smiles</th>\n",
       "    </tr>\n",
       "  </thead>\n",
       "  <tbody>\n",
       "    <tr>\n",
       "      <th>0</th>\n",
       "      <td>Amigdalin</td>\n",
       "      <td>-0.974</td>\n",
       "      <td>1</td>\n",
       "      <td>457.432</td>\n",
       "      <td>7</td>\n",
       "      <td>3</td>\n",
       "      <td>7</td>\n",
       "      <td>202.32</td>\n",
       "      <td>-0.770</td>\n",
       "      <td>OCC3OC(OCC2OC(OC(C#N)c1ccccc1)C(O)C(O)C2O)C(O)...</td>\n",
       "    </tr>\n",
       "    <tr>\n",
       "      <th>1</th>\n",
       "      <td>Fenfuram</td>\n",
       "      <td>-2.885</td>\n",
       "      <td>1</td>\n",
       "      <td>201.225</td>\n",
       "      <td>1</td>\n",
       "      <td>2</td>\n",
       "      <td>2</td>\n",
       "      <td>42.24</td>\n",
       "      <td>-3.300</td>\n",
       "      <td>Cc1occc1C(=O)Nc2ccccc2</td>\n",
       "    </tr>\n",
       "    <tr>\n",
       "      <th>2</th>\n",
       "      <td>citral</td>\n",
       "      <td>-2.579</td>\n",
       "      <td>1</td>\n",
       "      <td>152.237</td>\n",
       "      <td>0</td>\n",
       "      <td>0</td>\n",
       "      <td>4</td>\n",
       "      <td>17.07</td>\n",
       "      <td>-2.060</td>\n",
       "      <td>CC(C)=CCCC(C)=CC(=O)</td>\n",
       "    </tr>\n",
       "    <tr>\n",
       "      <th>3</th>\n",
       "      <td>Picene</td>\n",
       "      <td>-6.618</td>\n",
       "      <td>2</td>\n",
       "      <td>278.354</td>\n",
       "      <td>0</td>\n",
       "      <td>5</td>\n",
       "      <td>0</td>\n",
       "      <td>0.00</td>\n",
       "      <td>-7.870</td>\n",
       "      <td>c1ccc2c(c1)ccc3c2ccc4c5ccccc5ccc43</td>\n",
       "    </tr>\n",
       "    <tr>\n",
       "      <th>4</th>\n",
       "      <td>Thiophene</td>\n",
       "      <td>-2.232</td>\n",
       "      <td>2</td>\n",
       "      <td>84.143</td>\n",
       "      <td>0</td>\n",
       "      <td>1</td>\n",
       "      <td>0</td>\n",
       "      <td>0.00</td>\n",
       "      <td>-1.330</td>\n",
       "      <td>c1ccsc1</td>\n",
       "    </tr>\n",
       "    <tr>\n",
       "      <th>...</th>\n",
       "      <td>...</td>\n",
       "      <td>...</td>\n",
       "      <td>...</td>\n",
       "      <td>...</td>\n",
       "      <td>...</td>\n",
       "      <td>...</td>\n",
       "      <td>...</td>\n",
       "      <td>...</td>\n",
       "      <td>...</td>\n",
       "      <td>...</td>\n",
       "    </tr>\n",
       "    <tr>\n",
       "      <th>1123</th>\n",
       "      <td>halothane</td>\n",
       "      <td>-2.608</td>\n",
       "      <td>1</td>\n",
       "      <td>197.381</td>\n",
       "      <td>0</td>\n",
       "      <td>0</td>\n",
       "      <td>0</td>\n",
       "      <td>0.00</td>\n",
       "      <td>-1.710</td>\n",
       "      <td>FC(F)(F)C(Cl)Br</td>\n",
       "    </tr>\n",
       "    <tr>\n",
       "      <th>1124</th>\n",
       "      <td>Oxamyl</td>\n",
       "      <td>-0.908</td>\n",
       "      <td>1</td>\n",
       "      <td>219.266</td>\n",
       "      <td>1</td>\n",
       "      <td>0</td>\n",
       "      <td>1</td>\n",
       "      <td>71.00</td>\n",
       "      <td>0.106</td>\n",
       "      <td>CNC(=O)ON=C(SC)C(=O)N(C)C</td>\n",
       "    </tr>\n",
       "    <tr>\n",
       "      <th>1125</th>\n",
       "      <td>Thiometon</td>\n",
       "      <td>-3.323</td>\n",
       "      <td>1</td>\n",
       "      <td>246.359</td>\n",
       "      <td>0</td>\n",
       "      <td>0</td>\n",
       "      <td>7</td>\n",
       "      <td>18.46</td>\n",
       "      <td>-3.091</td>\n",
       "      <td>CCSCCSP(=S)(OC)OC</td>\n",
       "    </tr>\n",
       "    <tr>\n",
       "      <th>1126</th>\n",
       "      <td>2-Methylbutane</td>\n",
       "      <td>-2.245</td>\n",
       "      <td>1</td>\n",
       "      <td>72.151</td>\n",
       "      <td>0</td>\n",
       "      <td>0</td>\n",
       "      <td>1</td>\n",
       "      <td>0.00</td>\n",
       "      <td>-3.180</td>\n",
       "      <td>CCC(C)C</td>\n",
       "    </tr>\n",
       "    <tr>\n",
       "      <th>1127</th>\n",
       "      <td>Stirofos</td>\n",
       "      <td>-4.320</td>\n",
       "      <td>1</td>\n",
       "      <td>365.964</td>\n",
       "      <td>0</td>\n",
       "      <td>1</td>\n",
       "      <td>5</td>\n",
       "      <td>44.76</td>\n",
       "      <td>-4.522</td>\n",
       "      <td>COP(=O)(OC)OC(=CCl)c1cc(Cl)c(Cl)cc1Cl</td>\n",
       "    </tr>\n",
       "  </tbody>\n",
       "</table>\n",
       "<p>1128 rows × 10 columns</p>\n",
       "</div>"
      ],
      "text/plain": [
       "         Compound ID  ESOL predicted log solubility in mols per litre  \\\n",
       "0          Amigdalin                                           -0.974   \n",
       "1           Fenfuram                                           -2.885   \n",
       "2             citral                                           -2.579   \n",
       "3             Picene                                           -6.618   \n",
       "4          Thiophene                                           -2.232   \n",
       "...              ...                                              ...   \n",
       "1123       halothane                                           -2.608   \n",
       "1124          Oxamyl                                           -0.908   \n",
       "1125       Thiometon                                           -3.323   \n",
       "1126  2-Methylbutane                                           -2.245   \n",
       "1127        Stirofos                                           -4.320   \n",
       "\n",
       "      Minimum Degree  Molecular Weight  Number of H-Bond Donors  \\\n",
       "0                  1           457.432                        7   \n",
       "1                  1           201.225                        1   \n",
       "2                  1           152.237                        0   \n",
       "3                  2           278.354                        0   \n",
       "4                  2            84.143                        0   \n",
       "...              ...               ...                      ...   \n",
       "1123               1           197.381                        0   \n",
       "1124               1           219.266                        1   \n",
       "1125               1           246.359                        0   \n",
       "1126               1            72.151                        0   \n",
       "1127               1           365.964                        0   \n",
       "\n",
       "      Number of Rings  Number of Rotatable Bonds  Polar Surface Area  \\\n",
       "0                   3                          7              202.32   \n",
       "1                   2                          2               42.24   \n",
       "2                   0                          4               17.07   \n",
       "3                   5                          0                0.00   \n",
       "4                   1                          0                0.00   \n",
       "...               ...                        ...                 ...   \n",
       "1123                0                          0                0.00   \n",
       "1124                0                          1               71.00   \n",
       "1125                0                          7               18.46   \n",
       "1126                0                          1                0.00   \n",
       "1127                1                          5               44.76   \n",
       "\n",
       "      measured log solubility in mols per litre  \\\n",
       "0                                        -0.770   \n",
       "1                                        -3.300   \n",
       "2                                        -2.060   \n",
       "3                                        -7.870   \n",
       "4                                        -1.330   \n",
       "...                                         ...   \n",
       "1123                                     -1.710   \n",
       "1124                                      0.106   \n",
       "1125                                     -3.091   \n",
       "1126                                     -3.180   \n",
       "1127                                     -4.522   \n",
       "\n",
       "                                                 smiles  \n",
       "0     OCC3OC(OCC2OC(OC(C#N)c1ccccc1)C(O)C(O)C2O)C(O)...  \n",
       "1                                Cc1occc1C(=O)Nc2ccccc2  \n",
       "2                                  CC(C)=CCCC(C)=CC(=O)  \n",
       "3                    c1ccc2c(c1)ccc3c2ccc4c5ccccc5ccc43  \n",
       "4                                               c1ccsc1  \n",
       "...                                                 ...  \n",
       "1123                                   FC(F)(F)C(Cl)Br   \n",
       "1124                          CNC(=O)ON=C(SC)C(=O)N(C)C  \n",
       "1125                                  CCSCCSP(=S)(OC)OC  \n",
       "1126                                            CCC(C)C  \n",
       "1127              COP(=O)(OC)OC(=CCl)c1cc(Cl)c(Cl)cc1Cl  \n",
       "\n",
       "[1128 rows x 10 columns]"
      ]
     },
     "execution_count": 5,
     "metadata": {},
     "output_type": "execute_result"
    }
   ],
   "source": [
    "data = pd.read_csv('delaney-processed.csv')\n",
    "data"
   ]
  },
  {
   "cell_type": "code",
   "execution_count": 9,
   "id": "93cf4bd3",
   "metadata": {},
   "outputs": [
    {
     "name": "stdout",
     "output_type": "stream",
     "text": [
      "['ABC', 'Any', 'Aromatic', 'BondType', 'CIPCode', 'Callable', 'Chem', 'ChiralCenter', 'Conjugated', 'Crippen', 'CrippenLogPContribution', 'CrippenMolarRefractivityContribution', 'Degree', 'Feature', 'FeatureFactory', 'FormalCharge', 'GasteigerCharge', 'Hetero', 'Hybridization', 'HydrogenAcceptor', 'HydrogenDonor', 'LabuteASAContribution', 'Lipinski', 'List', 'NumRadicalElectrons', 'Optional', 'Ring', 'RingSize', 'Rotatable', 'Sequence', 'Stereo', 'Symbol', 'TPSAContribution', 'TotalNumHs', 'TotalValence', 'Union', '__builtins__', '__cached__', '__doc__', '__file__', '__loader__', '__name__', '__package__', '__spec__', '_defaults', 'abstractmethod', 'atom_features', 'bond_features', 'math', 'rdMolDescriptors', 'rdPartialCharges']\n"
     ]
    }
   ],
   "source": [
    "print(dir(features))"
   ]
  },
  {
   "cell_type": "code",
   "execution_count": 30,
   "id": "cd75a522",
   "metadata": {},
   "outputs": [
    {
     "name": "stdout",
     "output_type": "stream",
     "text": [
      "atom_encoder Featurizer(features=[Symbol(allowable_set=['Ac', 'Ag', 'Al', 'Am', 'Ar', 'As', 'At', 'Au', 'B', 'Ba', 'Be', 'Bh', 'Bi', 'Bk', 'Br', 'C', 'Ca', 'Cd', 'Ce', 'Cf', 'Cl', 'Cm', 'Cn', 'Co', 'Cr', 'Cs', 'Cu', 'Db', 'Ds', 'Dy', 'Er', 'Es', 'Eu', 'F', 'Fe', 'Fm', 'Fr', 'Ga', 'Gd', 'Ge', 'H', 'He', 'Hf', 'Hg', 'Ho', 'Hs', 'I', 'In', 'Ir', 'K', 'Kr', 'La', 'Li', 'Lr', 'Lu', 'Md', 'Mg', 'Mn', 'Mo', 'Mt', 'N', 'Na', 'Nb', 'Nd', 'Ne', 'Ni', 'No', 'Np', 'O', 'Os', 'P', 'Pa', 'Pb', 'Pd', 'Pm', 'Po', 'Pr', 'Pt', 'Pu', 'Ra', 'Rb', 'Re', 'Rf', 'Rg', 'Rh', 'Rn', 'Ru', 'S', 'Sb', 'Sc', 'Se', 'Sg', 'Si', 'Sm', 'Sn', 'Sr', 'Ta', 'Tb', 'Tc', 'Te', 'Th', 'Ti', 'Tl', 'Tm', 'U', 'V', 'W', 'Xe', 'Y', 'Yb', 'Zn', 'Zr'], ordinal=False, oov_size=0), Hybridization(allowable_set=['S', 'SP', 'SP2', 'SP3', 'SP3D', 'SP3D2', 'UNSPECIFIED'], ordinal=False, oov_size=0)])\n",
      "bond_encoder Featurizer(features=[BondType(allowable_set=['AROMATIC', 'DOUBLE', 'SINGLE', 'TRIPLE'], ordinal=False, oov_size=0)])\n"
     ]
    }
   ],
   "source": [
    "atom_encoder = Featurizer([features.Symbol(),features.Hybridization()])\n",
    "print('atom_encoder', atom_encoder)\n",
    "bond_encoder = Featurizer([features.BondType()])\n",
    "print('bond_encoder', bond_encoder)\n",
    "encoder = MolecularGraphEncoder(atom_encoder, bond_encoder)"
   ]
  },
  {
   "cell_type": "code",
   "execution_count": 21,
   "id": "9965c803",
   "metadata": {},
   "outputs": [],
   "source": [
    "X = encoder(data['smiles'].tolist())\n",
    "y = data['measured log solubility in mols per litre'].values"
   ]
  },
  {
   "cell_type": "code",
   "execution_count": 22,
   "id": "07bcc7d8",
   "metadata": {},
   "outputs": [
    {
     "data": {
      "text/plain": [
       "'CO'"
      ]
     },
     "execution_count": 22,
     "metadata": {},
     "output_type": "execute_result"
    }
   ],
   "source": [
    "smiles = data['smiles'].tolist()[146]\n",
    "smiles"
   ]
  },
  {
   "cell_type": "code",
   "execution_count": 23,
   "id": "49c62b77",
   "metadata": {},
   "outputs": [
    {
     "data": {
      "text/plain": [
       "{'node_feature': <tf.Tensor: shape=(2, 119), dtype=float32, numpy=\n",
       " array([[0., 0., 0., 0., 0., 0., 0., 0., 0., 0., 0., 0., 0., 0., 0., 1.,\n",
       "         0., 0., 0., 0., 0., 0., 0., 0., 0., 0., 0., 0., 0., 0., 0., 0.,\n",
       "         0., 0., 0., 0., 0., 0., 0., 0., 0., 0., 0., 0., 0., 0., 0., 0.,\n",
       "         0., 0., 0., 0., 0., 0., 0., 0., 0., 0., 0., 0., 0., 0., 0., 0.,\n",
       "         0., 0., 0., 0., 0., 0., 0., 0., 0., 0., 0., 0., 0., 0., 0., 0.,\n",
       "         0., 0., 0., 0., 0., 0., 0., 0., 0., 0., 0., 0., 0., 0., 0., 0.,\n",
       "         0., 0., 0., 0., 0., 0., 0., 0., 0., 0., 0., 0., 0., 0., 0., 0.,\n",
       "         0., 0., 0., 1., 0., 0., 0.],\n",
       "        [0., 0., 0., 0., 0., 0., 0., 0., 0., 0., 0., 0., 0., 0., 0., 0.,\n",
       "         0., 0., 0., 0., 0., 0., 0., 0., 0., 0., 0., 0., 0., 0., 0., 0.,\n",
       "         0., 0., 0., 0., 0., 0., 0., 0., 0., 0., 0., 0., 0., 0., 0., 0.,\n",
       "         0., 0., 0., 0., 0., 0., 0., 0., 0., 0., 0., 0., 0., 0., 0., 0.,\n",
       "         0., 0., 0., 0., 1., 0., 0., 0., 0., 0., 0., 0., 0., 0., 0., 0.,\n",
       "         0., 0., 0., 0., 0., 0., 0., 0., 0., 0., 0., 0., 0., 0., 0., 0.,\n",
       "         0., 0., 0., 0., 0., 0., 0., 0., 0., 0., 0., 0., 0., 0., 0., 0.,\n",
       "         0., 0., 0., 1., 0., 0., 0.]], dtype=float32)>,\n",
       " 'edge_src': <tf.Tensor: shape=(2,), dtype=int32, numpy=array([0, 1], dtype=int32)>,\n",
       " 'edge_dst': <tf.Tensor: shape=(2,), dtype=int32, numpy=array([1, 0], dtype=int32)>,\n",
       " 'edge_feature': <tf.Tensor: shape=(2, 4), dtype=float32, numpy=\n",
       " array([[0., 0., 1., 0.],\n",
       "        [0., 0., 1., 0.]], dtype=float32)>}"
      ]
     },
     "execution_count": 23,
     "metadata": {},
     "output_type": "execute_result"
    }
   ],
   "source": [
    "X[146].data\n",
    "# on the first component of array, 1 corresponds to the first atom in the molecule (C)\n",
    "# on the second component, 1 corresponds to the second atom in the molecule (O)\n",
    "# same index as atom_encoder"
   ]
  },
  {
   "cell_type": "markdown",
   "id": "9710cd71",
   "metadata": {},
   "source": [
    "Both atoms in CO molecule are sp3 hybridized. From `atom_encoder` sp3 is 4th to last and we see 1's there in both components of 2D array above as well.\n",
    "\n",
    "From `bond_encoder`, this is a 'TRIPLE' bond (3rd position in last array above)"
   ]
  },
  {
   "cell_type": "markdown",
   "id": "bbaaa161",
   "metadata": {},
   "source": [
    "### Building the Model"
   ]
  },
  {
   "cell_type": "code",
   "execution_count": 35,
   "id": "78ab0f6d",
   "metadata": {},
   "outputs": [
    {
     "name": "stdout",
     "output_type": "stream",
     "text": [
      "Epoch 1/10\n",
      "36/36 [==============================] - 2s 8ms/step - loss: 4.6412\n",
      "Epoch 2/10\n",
      "36/36 [==============================] - 0s 8ms/step - loss: 3.5830\n",
      "Epoch 3/10\n",
      "36/36 [==============================] - 0s 9ms/step - loss: 3.3702\n",
      "Epoch 4/10\n",
      "36/36 [==============================] - 0s 10ms/step - loss: 3.2057\n",
      "Epoch 5/10\n",
      "36/36 [==============================] - 0s 10ms/step - loss: 3.0473\n",
      "Epoch 6/10\n",
      "36/36 [==============================] - 0s 11ms/step - loss: 2.9780\n",
      "Epoch 7/10\n",
      "36/36 [==============================] - 0s 11ms/step - loss: 2.8464\n",
      "Epoch 8/10\n",
      "36/36 [==============================] - 0s 11ms/step - loss: 2.8801\n",
      "Epoch 9/10\n",
      "36/36 [==============================] - 0s 11ms/step - loss: 2.7525\n",
      "Epoch 10/10\n",
      "36/36 [==============================] - 0s 11ms/step - loss: 2.7341\n"
     ]
    }
   ],
   "source": [
    "model = keras.Sequential([\n",
    "    keras.Input(type_spec=X.spec),\n",
    "    molgraph.layers.GATConv(),\n",
    "    molgraph.layers.GATConv(),       # add more layers for atoms to 'feel' atoms further away \n",
    "    molgraph.layers.Readout('mean'),\n",
    "    keras.layers.Dense(100, activation='relu'),\n",
    "    keras.layers.Dense(1)\n",
    "])\n",
    "\n",
    "model.compile(loss='mean_squared_error')\n",
    "history = model.fit(X,y, epochs=10)"
   ]
  },
  {
   "cell_type": "code",
   "execution_count": null,
   "id": "48fbce35",
   "metadata": {},
   "outputs": [],
   "source": []
  }
 ],
 "metadata": {
  "kernelspec": {
   "display_name": "my-rdkit-env",
   "language": "python",
   "name": "python3"
  },
  "language_info": {
   "codemirror_mode": {
    "name": "ipython",
    "version": 3
   },
   "file_extension": ".py",
   "mimetype": "text/x-python",
   "name": "python",
   "nbconvert_exporter": "python",
   "pygments_lexer": "ipython3",
   "version": "3.12.11"
  }
 },
 "nbformat": 4,
 "nbformat_minor": 5
}
